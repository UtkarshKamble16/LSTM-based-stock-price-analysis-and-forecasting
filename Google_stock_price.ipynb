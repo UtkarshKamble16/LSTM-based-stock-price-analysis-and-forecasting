{
  "cells": [
    {
      "cell_type": "code",
      "execution_count": null,
      "metadata": {
        "id": "Ov_med6n_TI7"
      },
      "outputs": [],
      "source": [
        "import numpy as np\n",
        "import pandas as pd\n",
        "import matplotlib.pyplot as plt\n",
        "from sklearn.preprocessing import MinMaxScaler\n",
        "from keras.models import Sequential\n",
        "from keras.layers import Dense,LSTM,Dropout"
      ]
    },
    {
      "cell_type": "code",
      "execution_count": null,
      "metadata": {
        "colab": {
          "base_uri": "https://localhost:8080/",
          "height": 206
        },
        "id": "A_svDw24AJtp",
        "outputId": "704db3a5-e8b0-4617-ebbd-6f0abb77a028"
      },
      "outputs": [
        {
          "data": {
            "text/html": [
              "\n",
              "  <div id=\"df-92666a55-d2eb-46e1-8fe8-1b2aad3a69bf\">\n",
              "    <div class=\"colab-df-container\">\n",
              "      <div>\n",
              "<style scoped>\n",
              "    .dataframe tbody tr th:only-of-type {\n",
              "        vertical-align: middle;\n",
              "    }\n",
              "\n",
              "    .dataframe tbody tr th {\n",
              "        vertical-align: top;\n",
              "    }\n",
              "\n",
              "    .dataframe thead th {\n",
              "        text-align: right;\n",
              "    }\n",
              "</style>\n",
              "<table border=\"1\" class=\"dataframe\">\n",
              "  <thead>\n",
              "    <tr style=\"text-align: right;\">\n",
              "      <th></th>\n",
              "      <th>Date</th>\n",
              "      <th>Open</th>\n",
              "      <th>High</th>\n",
              "      <th>Low</th>\n",
              "      <th>Close</th>\n",
              "      <th>Volume</th>\n",
              "    </tr>\n",
              "  </thead>\n",
              "  <tbody>\n",
              "    <tr>\n",
              "      <th>0</th>\n",
              "      <td>1/3/2012</td>\n",
              "      <td>325.25</td>\n",
              "      <td>332.83</td>\n",
              "      <td>324.97</td>\n",
              "      <td>663.59</td>\n",
              "      <td>7,380,500</td>\n",
              "    </tr>\n",
              "    <tr>\n",
              "      <th>1</th>\n",
              "      <td>1/4/2012</td>\n",
              "      <td>331.27</td>\n",
              "      <td>333.87</td>\n",
              "      <td>329.08</td>\n",
              "      <td>666.45</td>\n",
              "      <td>5,749,400</td>\n",
              "    </tr>\n",
              "    <tr>\n",
              "      <th>2</th>\n",
              "      <td>1/5/2012</td>\n",
              "      <td>329.83</td>\n",
              "      <td>330.75</td>\n",
              "      <td>326.89</td>\n",
              "      <td>657.21</td>\n",
              "      <td>6,590,300</td>\n",
              "    </tr>\n",
              "    <tr>\n",
              "      <th>3</th>\n",
              "      <td>1/6/2012</td>\n",
              "      <td>328.34</td>\n",
              "      <td>328.77</td>\n",
              "      <td>323.68</td>\n",
              "      <td>648.24</td>\n",
              "      <td>5,405,900</td>\n",
              "    </tr>\n",
              "    <tr>\n",
              "      <th>4</th>\n",
              "      <td>1/9/2012</td>\n",
              "      <td>322.04</td>\n",
              "      <td>322.29</td>\n",
              "      <td>309.46</td>\n",
              "      <td>620.76</td>\n",
              "      <td>11,688,800</td>\n",
              "    </tr>\n",
              "  </tbody>\n",
              "</table>\n",
              "</div>\n",
              "      <button class=\"colab-df-convert\" onclick=\"convertToInteractive('df-92666a55-d2eb-46e1-8fe8-1b2aad3a69bf')\"\n",
              "              title=\"Convert this dataframe to an interactive table.\"\n",
              "              style=\"display:none;\">\n",
              "        \n",
              "  <svg xmlns=\"http://www.w3.org/2000/svg\" height=\"24px\"viewBox=\"0 0 24 24\"\n",
              "       width=\"24px\">\n",
              "    <path d=\"M0 0h24v24H0V0z\" fill=\"none\"/>\n",
              "    <path d=\"M18.56 5.44l.94 2.06.94-2.06 2.06-.94-2.06-.94-.94-2.06-.94 2.06-2.06.94zm-11 1L8.5 8.5l.94-2.06 2.06-.94-2.06-.94L8.5 2.5l-.94 2.06-2.06.94zm10 10l.94 2.06.94-2.06 2.06-.94-2.06-.94-.94-2.06-.94 2.06-2.06.94z\"/><path d=\"M17.41 7.96l-1.37-1.37c-.4-.4-.92-.59-1.43-.59-.52 0-1.04.2-1.43.59L10.3 9.45l-7.72 7.72c-.78.78-.78 2.05 0 2.83L4 21.41c.39.39.9.59 1.41.59.51 0 1.02-.2 1.41-.59l7.78-7.78 2.81-2.81c.8-.78.8-2.07 0-2.86zM5.41 20L4 18.59l7.72-7.72 1.47 1.35L5.41 20z\"/>\n",
              "  </svg>\n",
              "      </button>\n",
              "      \n",
              "  <style>\n",
              "    .colab-df-container {\n",
              "      display:flex;\n",
              "      flex-wrap:wrap;\n",
              "      gap: 12px;\n",
              "    }\n",
              "\n",
              "    .colab-df-convert {\n",
              "      background-color: #E8F0FE;\n",
              "      border: none;\n",
              "      border-radius: 50%;\n",
              "      cursor: pointer;\n",
              "      display: none;\n",
              "      fill: #1967D2;\n",
              "      height: 32px;\n",
              "      padding: 0 0 0 0;\n",
              "      width: 32px;\n",
              "    }\n",
              "\n",
              "    .colab-df-convert:hover {\n",
              "      background-color: #E2EBFA;\n",
              "      box-shadow: 0px 1px 2px rgba(60, 64, 67, 0.3), 0px 1px 3px 1px rgba(60, 64, 67, 0.15);\n",
              "      fill: #174EA6;\n",
              "    }\n",
              "\n",
              "    [theme=dark] .colab-df-convert {\n",
              "      background-color: #3B4455;\n",
              "      fill: #D2E3FC;\n",
              "    }\n",
              "\n",
              "    [theme=dark] .colab-df-convert:hover {\n",
              "      background-color: #434B5C;\n",
              "      box-shadow: 0px 1px 3px 1px rgba(0, 0, 0, 0.15);\n",
              "      filter: drop-shadow(0px 1px 2px rgba(0, 0, 0, 0.3));\n",
              "      fill: #FFFFFF;\n",
              "    }\n",
              "  </style>\n",
              "\n",
              "      <script>\n",
              "        const buttonEl =\n",
              "          document.querySelector('#df-92666a55-d2eb-46e1-8fe8-1b2aad3a69bf button.colab-df-convert');\n",
              "        buttonEl.style.display =\n",
              "          google.colab.kernel.accessAllowed ? 'block' : 'none';\n",
              "\n",
              "        async function convertToInteractive(key) {\n",
              "          const element = document.querySelector('#df-92666a55-d2eb-46e1-8fe8-1b2aad3a69bf');\n",
              "          const dataTable =\n",
              "            await google.colab.kernel.invokeFunction('convertToInteractive',\n",
              "                                                     [key], {});\n",
              "          if (!dataTable) return;\n",
              "\n",
              "          const docLinkHtml = 'Like what you see? Visit the ' +\n",
              "            '<a target=\"_blank\" href=https://colab.research.google.com/notebooks/data_table.ipynb>data table notebook</a>'\n",
              "            + ' to learn more about interactive tables.';\n",
              "          element.innerHTML = '';\n",
              "          dataTable['output_type'] = 'display_data';\n",
              "          await google.colab.output.renderOutput(dataTable, element);\n",
              "          const docLink = document.createElement('div');\n",
              "          docLink.innerHTML = docLinkHtml;\n",
              "          element.appendChild(docLink);\n",
              "        }\n",
              "      </script>\n",
              "    </div>\n",
              "  </div>\n",
              "  "
            ],
            "text/plain": [
              "       Date    Open    High     Low   Close      Volume\n",
              "0  1/3/2012  325.25  332.83  324.97  663.59   7,380,500\n",
              "1  1/4/2012  331.27  333.87  329.08  666.45   5,749,400\n",
              "2  1/5/2012  329.83  330.75  326.89  657.21   6,590,300\n",
              "3  1/6/2012  328.34  328.77  323.68  648.24   5,405,900\n",
              "4  1/9/2012  322.04  322.29  309.46  620.76  11,688,800"
            ]
          },
          "execution_count": 2,
          "metadata": {},
          "output_type": "execute_result"
        }
      ],
      "source": [
        "data = pd.read_csv('Google_train_data.csv')\n",
        "data.head()"
      ]
    },
    {
      "cell_type": "code",
      "execution_count": null,
      "metadata": {
        "colab": {
          "base_uri": "https://localhost:8080/"
        },
        "id": "ukD6gWlaATXN",
        "outputId": "d9679ba7-96bc-4faa-ef63-5e660c7555a0"
      },
      "outputs": [
        {
          "name": "stdout",
          "output_type": "stream",
          "text": [
            "<class 'pandas.core.frame.DataFrame'>\n",
            "RangeIndex: 1258 entries, 0 to 1257\n",
            "Data columns (total 6 columns):\n",
            " #   Column  Non-Null Count  Dtype  \n",
            "---  ------  --------------  -----  \n",
            " 0   Date    1258 non-null   object \n",
            " 1   Open    1258 non-null   float64\n",
            " 2   High    1258 non-null   float64\n",
            " 3   Low     1258 non-null   float64\n",
            " 4   Close   1258 non-null   object \n",
            " 5   Volume  1258 non-null   object \n",
            "dtypes: float64(3), object(3)\n",
            "memory usage: 59.1+ KB\n"
          ]
        }
      ],
      "source": [
        "data.info()"
      ]
    },
    {
      "cell_type": "code",
      "execution_count": null,
      "metadata": {
        "id": "Pyhmh-XyAj0F"
      },
      "outputs": [],
      "source": [
        "data[\"Close\"]=pd.to_numeric(data.Close,errors='coerce')\n",
        "data = data.dropna()\n",
        "trainData = data.iloc[:,4:5].values"
      ]
    },
    {
      "cell_type": "code",
      "execution_count": null,
      "metadata": {
        "colab": {
          "base_uri": "https://localhost:8080/"
        },
        "id": "W944CJpMApSg",
        "outputId": "cf0b9014-cace-48ca-ac63-01e22e614da9"
      },
      "outputs": [
        {
          "name": "stdout",
          "output_type": "stream",
          "text": [
            "<class 'pandas.core.frame.DataFrame'>\n",
            "Int64Index: 1149 entries, 0 to 1257\n",
            "Data columns (total 6 columns):\n",
            " #   Column  Non-Null Count  Dtype  \n",
            "---  ------  --------------  -----  \n",
            " 0   Date    1149 non-null   object \n",
            " 1   Open    1149 non-null   float64\n",
            " 2   High    1149 non-null   float64\n",
            " 3   Low     1149 non-null   float64\n",
            " 4   Close   1149 non-null   float64\n",
            " 5   Volume  1149 non-null   object \n",
            "dtypes: float64(4), object(2)\n",
            "memory usage: 62.8+ KB\n"
          ]
        }
      ],
      "source": [
        "data.info()"
      ]
    },
    {
      "cell_type": "code",
      "execution_count": null,
      "metadata": {
        "colab": {
          "base_uri": "https://localhost:8080/"
        },
        "id": "jU3nAzriDn45",
        "outputId": "0d99b8d0-fcda-41a7-cc38-11d0cd366062"
      },
      "outputs": [
        {
          "data": {
            "text/plain": [
              "(1149, 1)"
            ]
          },
          "execution_count": 6,
          "metadata": {},
          "output_type": "execute_result"
        }
      ],
      "source": [
        "sc = MinMaxScaler(feature_range=(0,1))\n",
        "trainData = sc.fit_transform(trainData)\n",
        "trainData.shape"
      ]
    },
    {
      "cell_type": "code",
      "execution_count": null,
      "metadata": {
        "id": "DjaruWomAzp3"
      },
      "outputs": [],
      "source": [
        "X_train = []\n",
        "y_train = []\n",
        "\n",
        "for i in range (60,1149):\n",
        "    X_train.append(trainData[i-60:i,0])\n",
        "    y_train.append(trainData[i,0])\n",
        "\n",
        "X_train,y_train = np.array(X_train),np.array(y_train)"
      ]
    },
    {
      "cell_type": "code",
      "execution_count": null,
      "metadata": {
        "colab": {
          "base_uri": "https://localhost:8080/"
        },
        "id": "q9i9vi_EA_TZ",
        "outputId": "8e8dceca-5876-4ef1-b798-1b5e918ae2d4"
      },
      "outputs": [
        {
          "data": {
            "text/plain": [
              "(1089, 60, 1)"
            ]
          },
          "execution_count": 8,
          "metadata": {},
          "output_type": "execute_result"
        }
      ],
      "source": [
        "X_train = np.reshape(X_train,(X_train.shape[0],X_train.shape[1],1))\n",
        "X_train.shape"
      ]
    },
    {
      "cell_type": "code",
      "execution_count": null,
      "metadata": {
        "id": "5-yT-WIZBGDE"
      },
      "outputs": [],
      "source": [
        "model = Sequential()\n",
        "\n",
        "model.add(LSTM(units=100, return_sequences = True, input_shape =(X_train.shape[1],1)))\n",
        "model.add(Dropout(0.2))\n",
        "\n",
        "model.add(LSTM(units=100, return_sequences = True))\n",
        "model.add(Dropout(0.2))\n",
        "\n",
        "model.add(LSTM(units=100, return_sequences = True))\n",
        "model.add(Dropout(0.2))\n",
        "\n",
        "model.add(LSTM(units=100, return_sequences = False))\n",
        "model.add(Dropout(0.2))\n",
        "\n",
        "model.add(Dense(units =1))\n",
        "model.compile(optimizer='adam',loss=\"mean_squared_error\")"
      ]
    },
    {
      "cell_type": "code",
      "execution_count": null,
      "metadata": {
        "colab": {
          "background_save": true,
          "base_uri": "https://localhost:8080/"
        },
        "id": "-XfSCFjGCK9k",
        "outputId": "081b0212-4344-42ff-f886-21c7ee256ef3"
      },
      "outputs": [
        {
          "name": "stdout",
          "output_type": "stream",
          "text": [
            "Epoch 1/20\n",
            "35/35 - 17s - loss: 0.0382 - 17s/epoch - 473ms/step\n",
            "Epoch 2/20\n",
            "35/35 - 8s - loss: 0.0109 - 8s/epoch - 233ms/step\n",
            "Epoch 3/20\n",
            "35/35 - 7s - loss: 0.0099 - 7s/epoch - 211ms/step\n",
            "Epoch 4/20\n",
            "35/35 - 8s - loss: 0.0105 - 8s/epoch - 235ms/step\n",
            "Epoch 5/20\n",
            "35/35 - 8s - loss: 0.0072 - 8s/epoch - 233ms/step\n",
            "Epoch 6/20\n",
            "35/35 - 7s - loss: 0.0068 - 7s/epoch - 210ms/step\n",
            "Epoch 7/20\n",
            "35/35 - 8s - loss: 0.0074 - 8s/epoch - 234ms/step\n",
            "Epoch 8/20\n",
            "35/35 - 8s - loss: 0.0068 - 8s/epoch - 235ms/step\n",
            "Epoch 9/20\n",
            "35/35 - 7s - loss: 0.0063 - 7s/epoch - 214ms/step\n",
            "Epoch 10/20\n",
            "35/35 - 8s - loss: 0.0060 - 8s/epoch - 235ms/step\n",
            "Epoch 11/20\n",
            "35/35 - 8s - loss: 0.0061 - 8s/epoch - 235ms/step\n",
            "Epoch 12/20\n",
            "35/35 - 7s - loss: 0.0139 - 7s/epoch - 210ms/step\n",
            "Epoch 13/20\n",
            "35/35 - 8s - loss: 0.0057 - 8s/epoch - 234ms/step\n",
            "Epoch 14/20\n",
            "35/35 - 8s - loss: 0.0072 - 8s/epoch - 233ms/step\n",
            "Epoch 15/20\n",
            "35/35 - 7s - loss: 0.0056 - 7s/epoch - 209ms/step\n",
            "Epoch 16/20\n",
            "35/35 - 8s - loss: 0.0055 - 8s/epoch - 234ms/step\n",
            "Epoch 17/20\n",
            "35/35 - 8s - loss: 0.0052 - 8s/epoch - 234ms/step\n",
            "Epoch 18/20\n",
            "35/35 - 7s - loss: 0.0050 - 7s/epoch - 210ms/step\n",
            "Epoch 19/20\n",
            "35/35 - 8s - loss: 0.0048 - 8s/epoch - 233ms/step\n",
            "Epoch 20/20\n",
            "35/35 - 8s - loss: 0.0055 - 8s/epoch - 234ms/step\n"
          ]
        }
      ],
      "source": [
        "hist = model.fit(X_train, y_train, epochs = 20, batch_size = 32, verbose=2)"
      ]
    },
    {
      "cell_type": "code",
      "execution_count": null,
      "metadata": {
        "colab": {
          "base_uri": "https://localhost:8080/",
          "height": 472
        },
        "id": "i8rG7mEaBkwp",
        "outputId": "a912d5ce-03e1-49e7-d838-61338de1cc22"
      },
      "outputs": [
        {
          "data": {
            "image/png": "[encoded data removed]",
            "text/plain": [
              "<Figure size 640x480 with 1 Axes>"
            ]
          },
          "metadata": {},
          "output_type": "display_data"
        }
      ],
      "source": [
        "plt.plot(hist.history['loss'])\n",
        "plt.title('Training model loss')\n",
        "plt.ylabel('loss')\n",
        "plt.xlabel('epoch')\n",
        "plt.legend(['train'], loc='upper left')\n",
        "plt.show()"
      ]
    },
    {
      "cell_type": "code",
      "execution_count": null,
      "metadata": {
        "colab": {
          "base_uri": "https://localhost:8080/"
        },
        "id": "UWCzWw4QDRME",
        "outputId": "67b5fb18-61be-48fb-ee07-d4271b7e4e78"
      },
      "outputs": [
        {
          "data": {
            "text/plain": [
              "(192, 60, 1)"
            ]
          },
          "execution_count": 12,
          "metadata": {},
          "output_type": "execute_result"
        }
      ],
      "source": [
        "testData = pd.read_csv('Google_test_data.csv')\n",
        "testData[\"Close\"]=pd.to_numeric(testData.Close,errors='coerce')\n",
        "testData = testData.dropna()\n",
        "testData = testData.iloc[:,4:5]\n",
        "y_test = testData.iloc[60:,0:].values\n",
        "#input array for the model\n",
        "inputClosing = testData.iloc[:,0:].values\n",
        "inputClosing_scaled = sc.transform(inputClosing)\n",
        "inputClosing_scaled.shape\n",
        "X_test = []\n",
        "length = len(testData)\n",
        "timestep = 60\n",
        "for i in range(timestep,length):\n",
        "    X_test.append(inputClosing_scaled[i-timestep:i,0])\n",
        "X_test = np.array(X_test)\n",
        "X_test = np.reshape(X_test,(X_test.shape[0],X_test.shape[1],1))\n",
        "X_test.shape"
      ]
    },
    {
      "cell_type": "code",
      "execution_count": null,
      "metadata": {
        "colab": {
          "base_uri": "https://localhost:8080/"
        },
        "id": "4mEMU_tMDyAK",
        "outputId": "60b4d458-355c-473e-f6f8-e0c5665d0397"
      },
      "outputs": [
        {
          "name": "stdout",
          "output_type": "stream",
          "text": [
            "6/6 [==============================] - 2s 59ms/step\n"
          ]
        },
        {
          "data": {
            "text/plain": [
              "array([[1.2307627],\n",
              "       [1.233406 ],\n",
              "       [1.2442462],\n",
              "       [1.261016 ],\n",
              "       [1.275266 ],\n",
              "       [1.276896 ],\n",
              "       [1.2656959],\n",
              "       [1.2490319],\n",
              "       [1.2379038],\n",
              "       [1.234862 ],\n",
              "       [1.2288884],\n",
              "       [1.2183787],\n",
              "       [1.2083552],\n",
              "       [1.1988362],\n",
              "       [1.1959324],\n",
              "       [1.1994324],\n",
              "       [1.2158802],\n",
              "       [1.2427788],\n",
              "       [1.274279 ],\n",
              "       [1.3061414],\n",
              "       [1.3209232],\n",
              "       [1.3200123],\n",
              "       [1.3023052],\n",
              "       [1.2751752],\n",
              "       [1.2498031],\n",
              "       [1.2346791],\n",
              "       [1.230389 ],\n",
              "       [1.2293522],\n",
              "       [1.2219937],\n",
              "       [1.2105013],\n",
              "       [1.19751  ],\n",
              "       [1.1829152],\n",
              "       [1.1621046],\n",
              "       [1.1366352],\n",
              "       [1.1247876],\n",
              "       [1.1320208],\n",
              "       [1.152073 ],\n",
              "       [1.1760253],\n",
              "       [1.1993182],\n",
              "       [1.2122297],\n",
              "       [1.2249277],\n",
              "       [1.2403084],\n",
              "       [1.2583979],\n",
              "       [1.2758368],\n",
              "       [1.2885716],\n",
              "       [1.2922169],\n",
              "       [1.2847793],\n",
              "       [1.2771587],\n",
              "       [1.2751194],\n",
              "       [1.2807168],\n",
              "       [1.2931743],\n",
              "       [1.3021413],\n",
              "       [1.3049264],\n",
              "       [1.3021657],\n",
              "       [1.3001755],\n",
              "       [1.2963579],\n",
              "       [1.2881844],\n",
              "       [1.2834694],\n",
              "       [1.2908393],\n",
              "       [1.3072959],\n",
              "       [1.3316655],\n",
              "       [1.3613908],\n",
              "       [1.3833171],\n",
              "       [1.3887765],\n",
              "       [1.3789396],\n",
              "       [1.3605599],\n",
              "       [1.3469503],\n",
              "       [1.3420606],\n",
              "       [1.344693 ],\n",
              "       [1.3494444],\n",
              "       [1.3542864],\n",
              "       [1.3569951],\n",
              "       [1.3532685],\n",
              "       [1.3473648],\n",
              "       [1.3421036],\n",
              "       [1.3400807],\n",
              "       [1.3414704],\n",
              "       [1.3458695],\n",
              "       [1.3566402],\n",
              "       [1.3733565],\n",
              "       [1.3952837],\n",
              "       [1.4168952],\n",
              "       [1.4302639],\n",
              "       [1.4336406],\n",
              "       [1.4377003],\n",
              "       [1.4495836],\n",
              "       [1.4671358],\n",
              "       [1.4831117],\n",
              "       [1.4931577],\n",
              "       [1.4965771],\n",
              "       [1.4986   ],\n",
              "       [1.5072836],\n",
              "       [1.5233471],\n",
              "       [1.5352736],\n",
              "       [1.5356936],\n",
              "       [1.5241239],\n",
              "       [1.5030913],\n",
              "       [1.477992 ],\n",
              "       [1.456081 ],\n",
              "       [1.4464405],\n",
              "       [1.4502914],\n",
              "       [1.4640567],\n",
              "       [1.4837486],\n",
              "       [1.5017931],\n",
              "       [1.5134021],\n",
              "       [1.5164006],\n",
              "       [1.5141187],\n",
              "       [1.5103892],\n",
              "       [1.5106136],\n",
              "       [1.5156941],\n",
              "       [1.5248408],\n",
              "       [1.5374326],\n",
              "       [1.5503908],\n",
              "       [1.5640873],\n",
              "       [1.5806365],\n",
              "       [1.5951351],\n",
              "       [1.6065518],\n",
              "       [1.6163305],\n",
              "       [1.6280211],\n",
              "       [1.6136786],\n",
              "       [1.5701503],\n",
              "       [1.5116831],\n",
              "       [1.4616406],\n",
              "       [1.4313163],\n",
              "       [1.4167678],\n",
              "       [1.4109718],\n",
              "       [1.4088479],\n",
              "       [1.408965 ],\n",
              "       [1.4026682],\n",
              "       [1.3876007],\n",
              "       [1.3793347],\n",
              "       [1.3860092],\n",
              "       [1.4003606],\n",
              "       [1.4097127],\n",
              "       [1.4133595],\n",
              "       [1.4137259],\n",
              "       [1.4103599],\n",
              "       [1.4029921],\n",
              "       [1.3939872],\n",
              "       [1.3815066],\n",
              "       [1.3679041],\n",
              "       [1.3526154],\n",
              "       [1.3214765],\n",
              "       [1.2825115],\n",
              "       [1.243593 ],\n",
              "       [1.2123069],\n",
              "       [1.1972526],\n",
              "       [1.2014083],\n",
              "       [1.2191516],\n",
              "       [1.2420579],\n",
              "       [1.2660791],\n",
              "       [1.2867417],\n",
              "       [1.3032745],\n",
              "       [1.3177985],\n",
              "       [1.3299743],\n",
              "       [1.3410518],\n",
              "       [1.3529515],\n",
              "       [1.3631274],\n",
              "       [1.3629563],\n",
              "       [1.3510512],\n",
              "       [1.3313433],\n",
              "       [1.311062 ],\n",
              "       [1.298945 ],\n",
              "       [1.2995958],\n",
              "       [1.3125513],\n",
              "       [1.3343872],\n",
              "       [1.3550247],\n",
              "       [1.3709897],\n",
              "       [1.3848594],\n",
              "       [1.3976917],\n",
              "       [1.4086791],\n",
              "       [1.4179269],\n",
              "       [1.425555 ],\n",
              "       [1.4292607],\n",
              "       [1.4288666],\n",
              "       [1.4215962],\n",
              "       [1.4114094],\n",
              "       [1.4037389],\n",
              "       [1.3981832],\n",
              "       [1.3928405],\n",
              "       [1.4162656],\n",
              "       [1.4633372],\n",
              "       [1.5140764],\n",
              "       [1.551881 ],\n",
              "       [1.5695684],\n",
              "       [1.5661576],\n",
              "       [1.5382773],\n",
              "       [1.5010993],\n",
              "       [1.4679931],\n",
              "       [1.4530836],\n",
              "       [1.4516002],\n",
              "       [1.4536363]], dtype=float32)"
            ]
          },
          "execution_count": 13,
          "metadata": {},
          "output_type": "execute_result"
        }
      ],
      "source": [
        "y_pred = model.predict(X_test)\n",
        "y_pred"
      ]
    },
    {
      "cell_type": "code",
      "execution_count": null,
      "metadata": {
        "id": "dabphHwyD2xt"
      },
      "outputs": [],
      "source": [
        "predicted_price = sc.inverse_transform(y_pred)"
      ]
    },
    {
      "cell_type": "code",
      "execution_count": null,
      "metadata": {
        "colab": {
          "base_uri": "https://localhost:8080/",
          "height": 472
        },
        "id": "vrLdH8fKD8wM",
        "outputId": "04e4d72f-176d-4dae-ba59-9ed8079b4318"
      },
      "outputs": [
        {
          "data": {
            "image/png": "[encoded data removed]",
            "text/plain": [
              "<Figure size 640x480 with 1 Axes>"
            ]
          },
          "metadata": {},
          "output_type": "display_data"
        }
      ],
      "source": [
        "plt.plot(y_test, color = 'red', label = 'Actual Stock Price')\n",
        "plt.plot(predicted_price, color = 'green', label = 'Predicted Stock Price')\n",
        "plt.title('Google stock price prediction')\n",
        "plt.xlabel('Time')\n",
        "plt.ylabel('Stock Price')\n",
        "plt.legend()\n",
        "plt.show()"
      ]
    }
  ],
  "metadata": {
    "colab": {
      "provenance": []
    },
    "kernelspec": {
      "display_name": "Python 3",
      "name": "python3"
    },
    "language_info": {
      "name": "python"
    }
  },
  "nbformat": 4,
  "nbformat_minor": 0
}